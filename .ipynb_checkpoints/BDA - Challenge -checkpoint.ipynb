{
 "cells": [
  {
   "cell_type": "markdown",
   "metadata": {},
   "source": [
    "# Business Data Analytics - Challenge"
   ]
  },
  {
   "cell_type": "markdown",
   "metadata": {},
   "source": [
    "---"
   ]
  },
  {
   "cell_type": "markdown",
   "metadata": {},
   "source": [
    "## Package Import"
   ]
  },
  {
   "cell_type": "code",
   "execution_count": 9,
   "metadata": {},
   "outputs": [],
   "source": [
    "import pandas as pd\n",
    "import numpy as np\n",
    "\n",
    "import os"
   ]
  },
  {
   "cell_type": "markdown",
   "metadata": {},
   "source": [
    "---"
   ]
  },
  {
   "cell_type": "markdown",
   "metadata": {},
   "source": [
    "## Data Import"
   ]
  },
  {
   "cell_type": "code",
   "execution_count": 89,
   "metadata": {},
   "outputs": [],
   "source": [
    "import_files = os.listdir(\"data/\")\n",
    "dateparse = lambda x: pd.datetime.strptime(x, '%d.%m.%Y')"
   ]
  },
  {
   "cell_type": "code",
   "execution_count": 90,
   "metadata": {},
   "outputs": [
    {
     "name": "stdout",
     "output_type": "stream",
     "text": [
      "Import File: DE_Physikalischer Stromfluss_201506010000_201706012359_1.csv \n",
      "Import File: DE_Physikalischer Stromfluss_201706020000_201906022359_1.csv \n"
     ]
    }
   ],
   "source": [
    "for idx , file in enumerate(import_files):\n",
    "    print(\"Import File: {} \".format(file))\n",
    "    PATH = \"data/\" + file\n",
    "    if idx>0:\n",
    "        df2 = pd.read_csv(PATH,\n",
    "            sep=\";\",\n",
    "            decimal=\",\",\n",
    "            thousands=\".\",\n",
    "            parse_dates=['Datum'],\n",
    "            date_parser = dateparse )\n",
    "        df = df.append(df2)\n",
    "    else:\n",
    "        df = pd.read_csv(PATH,\n",
    "            sep=\";\",\n",
    "            decimal=\",\",\n",
    "            thousands=\".\",\n",
    "            parse_dates=['Datum'],\n",
    "            date_parser = dateparse)\n",
    "del df2"
   ]
  },
  {
   "cell_type": "code",
   "execution_count": 91,
   "metadata": {},
   "outputs": [
    {
     "data": {
      "text/html": [
       "<div>\n",
       "<style scoped>\n",
       "    .dataframe tbody tr th:only-of-type {\n",
       "        vertical-align: middle;\n",
       "    }\n",
       "\n",
       "    .dataframe tbody tr th {\n",
       "        vertical-align: top;\n",
       "    }\n",
       "\n",
       "    .dataframe thead th {\n",
       "        text-align: right;\n",
       "    }\n",
       "</style>\n",
       "<table border=\"1\" class=\"dataframe\">\n",
       "  <thead>\n",
       "    <tr style=\"text-align: right;\">\n",
       "      <th></th>\n",
       "      <th>Datum</th>\n",
       "      <th>Uhrzeit</th>\n",
       "      <th>Physikalischer Nettoexport[MWh]</th>\n",
       "      <th>Niederlande (Export)[MWh]</th>\n",
       "      <th>Niederlande (Import)[MWh]</th>\n",
       "      <th>Schweiz (Export)[MWh]</th>\n",
       "      <th>Schweiz (Import)[MWh]</th>\n",
       "      <th>Dänemark (Export)[MWh]</th>\n",
       "      <th>Dänemark (Import)[MWh]</th>\n",
       "      <th>Tschechien (Export)[MWh]</th>\n",
       "      <th>...</th>\n",
       "      <th>Luxemburg (Export)[MWh]</th>\n",
       "      <th>Luxemburg (Import)[MWh]</th>\n",
       "      <th>Schweden (Export)[MWh]</th>\n",
       "      <th>Schweden (Import)[MWh]</th>\n",
       "      <th>Österreich (Export)[MWh]</th>\n",
       "      <th>Österreich (Import)[MWh]</th>\n",
       "      <th>Frankreich (Export)[MWh]</th>\n",
       "      <th>Frankreich (Import)[MWh]</th>\n",
       "      <th>Polen (Export)[MWh]</th>\n",
       "      <th>Polen (Import)[MWh]</th>\n",
       "    </tr>\n",
       "  </thead>\n",
       "  <tbody>\n",
       "    <tr>\n",
       "      <th>0</th>\n",
       "      <td>2015-06-01</td>\n",
       "      <td>00:00</td>\n",
       "      <td>-</td>\n",
       "      <td>3932</td>\n",
       "      <td>-0</td>\n",
       "      <td>145</td>\n",
       "      <td>-0</td>\n",
       "      <td>113</td>\n",
       "      <td>-385</td>\n",
       "      <td>912</td>\n",
       "      <td>...</td>\n",
       "      <td>-</td>\n",
       "      <td>-</td>\n",
       "      <td>1</td>\n",
       "      <td>-0</td>\n",
       "      <td>1394</td>\n",
       "      <td>-0</td>\n",
       "      <td>246</td>\n",
       "      <td>-0</td>\n",
       "      <td>1279</td>\n",
       "      <td>-0</td>\n",
       "    </tr>\n",
       "    <tr>\n",
       "      <th>1</th>\n",
       "      <td>2015-06-01</td>\n",
       "      <td>01:00</td>\n",
       "      <td>-</td>\n",
       "      <td>4014</td>\n",
       "      <td>-0</td>\n",
       "      <td>261</td>\n",
       "      <td>-0</td>\n",
       "      <td>63</td>\n",
       "      <td>-204</td>\n",
       "      <td>839</td>\n",
       "      <td>...</td>\n",
       "      <td>-</td>\n",
       "      <td>-</td>\n",
       "      <td>1</td>\n",
       "      <td>-0</td>\n",
       "      <td>1355</td>\n",
       "      <td>-0</td>\n",
       "      <td>66</td>\n",
       "      <td>-0</td>\n",
       "      <td>1142</td>\n",
       "      <td>-0</td>\n",
       "    </tr>\n",
       "  </tbody>\n",
       "</table>\n",
       "<p>2 rows × 21 columns</p>\n",
       "</div>"
      ],
      "text/plain": [
       "       Datum Uhrzeit Physikalischer Nettoexport[MWh]  \\\n",
       "0 2015-06-01   00:00                               -   \n",
       "1 2015-06-01   01:00                               -   \n",
       "\n",
       "  Niederlande (Export)[MWh] Niederlande (Import)[MWh] Schweiz (Export)[MWh]  \\\n",
       "0                      3932                        -0                   145   \n",
       "1                      4014                        -0                   261   \n",
       "\n",
       "  Schweiz (Import)[MWh] Dänemark (Export)[MWh] Dänemark (Import)[MWh]  \\\n",
       "0                    -0                    113                   -385   \n",
       "1                    -0                     63                   -204   \n",
       "\n",
       "  Tschechien (Export)[MWh]  ... Luxemburg (Export)[MWh]  \\\n",
       "0                      912  ...                       -   \n",
       "1                      839  ...                       -   \n",
       "\n",
       "  Luxemburg (Import)[MWh] Schweden (Export)[MWh] Schweden (Import)[MWh]  \\\n",
       "0                       -                      1                     -0   \n",
       "1                       -                      1                     -0   \n",
       "\n",
       "  Österreich (Export)[MWh]  Österreich (Import)[MWh] Frankreich (Export)[MWh]  \\\n",
       "0                     1394                        -0                      246   \n",
       "1                     1355                        -0                       66   \n",
       "\n",
       "   Frankreich (Import)[MWh] Polen (Export)[MWh]  Polen (Import)[MWh]  \n",
       "0                        -0                1279                   -0  \n",
       "1                        -0                1142                   -0  \n",
       "\n",
       "[2 rows x 21 columns]"
      ]
     },
     "execution_count": 91,
     "metadata": {},
     "output_type": "execute_result"
    }
   ],
   "source": [
    "df.head(2)"
   ]
  },
  {
   "cell_type": "markdown",
   "metadata": {},
   "source": [
    "---"
   ]
  },
  {
   "cell_type": "markdown",
   "metadata": {},
   "source": [
    "## Preprocessing"
   ]
  },
  {
   "cell_type": "markdown",
   "metadata": {},
   "source": [
    "### 1. Columns Nameing and dTypes"
   ]
  },
  {
   "cell_type": "code",
   "execution_count": 92,
   "metadata": {},
   "outputs": [],
   "source": [
    "# Combine Datum and Uhrzeit to Date\n",
    "def create_datetime(row):\n",
    "    date = row.Datum.strftime(\"%Y-%m-%d\") + \" \" + row.Uhrzeit\n",
    "    return date\n",
    "\n",
    "df['Date'] = df.apply(lambda row: create_datetime(row), axis=1) \n",
    "df['Date'] = pd.to_datetime(df.Date,format=\"%Y-%m-%d %H:%M\")\n",
    "df = df.sort_values('Date').reset_index(drop=True)\n",
    "\n",
    "# Reorder Columns in Header\n",
    "cols = list(df)\n",
    "cols.insert(0, cols.pop(cols.index('Date')))\n",
    "df = df.loc[:, cols]\n",
    "df.drop(['Datum','Uhrzeit'],axis=1,inplace=True)"
   ]
  },
  {
   "cell_type": "code",
   "execution_count": 87,
   "metadata": {},
   "outputs": [
    {
     "data": {
      "text/html": [
       "<div>\n",
       "<style scoped>\n",
       "    .dataframe tbody tr th:only-of-type {\n",
       "        vertical-align: middle;\n",
       "    }\n",
       "\n",
       "    .dataframe tbody tr th {\n",
       "        vertical-align: top;\n",
       "    }\n",
       "\n",
       "    .dataframe thead th {\n",
       "        text-align: right;\n",
       "    }\n",
       "</style>\n",
       "<table border=\"1\" class=\"dataframe\">\n",
       "  <thead>\n",
       "    <tr style=\"text-align: right;\">\n",
       "      <th></th>\n",
       "      <th>Date</th>\n",
       "      <th>Physikalischer Nettoexport[MWh]</th>\n",
       "      <th>Niederlande (Export)[MWh]</th>\n",
       "      <th>Niederlande (Import)[MWh]</th>\n",
       "      <th>Schweiz (Export)[MWh]</th>\n",
       "      <th>Schweiz (Import)[MWh]</th>\n",
       "      <th>Dänemark (Export)[MWh]</th>\n",
       "      <th>Dänemark (Import)[MWh]</th>\n",
       "      <th>Tschechien (Export)[MWh]</th>\n",
       "      <th>Tschechien (Import)[MWh]</th>\n",
       "      <th>Luxemburg (Export)[MWh]</th>\n",
       "      <th>Luxemburg (Import)[MWh]</th>\n",
       "      <th>Schweden (Export)[MWh]</th>\n",
       "      <th>Schweden (Import)[MWh]</th>\n",
       "      <th>Österreich (Export)[MWh]</th>\n",
       "      <th>Österreich (Import)[MWh]</th>\n",
       "      <th>Frankreich (Export)[MWh]</th>\n",
       "      <th>Frankreich (Import)[MWh]</th>\n",
       "      <th>Polen (Export)[MWh]</th>\n",
       "      <th>Polen (Import)[MWh]</th>\n",
       "    </tr>\n",
       "  </thead>\n",
       "  <tbody>\n",
       "    <tr>\n",
       "      <th>0</th>\n",
       "      <td>2015-06-01 00:00:00</td>\n",
       "      <td>-</td>\n",
       "      <td>3932</td>\n",
       "      <td>-0</td>\n",
       "      <td>145</td>\n",
       "      <td>-0</td>\n",
       "      <td>113</td>\n",
       "      <td>-385</td>\n",
       "      <td>912</td>\n",
       "      <td>-358</td>\n",
       "      <td>-</td>\n",
       "      <td>-</td>\n",
       "      <td>1</td>\n",
       "      <td>-0</td>\n",
       "      <td>1394</td>\n",
       "      <td>-0</td>\n",
       "      <td>246</td>\n",
       "      <td>-0</td>\n",
       "      <td>1279</td>\n",
       "      <td>-0</td>\n",
       "    </tr>\n",
       "    <tr>\n",
       "      <th>1</th>\n",
       "      <td>2015-06-01 01:00:00</td>\n",
       "      <td>-</td>\n",
       "      <td>4014</td>\n",
       "      <td>-0</td>\n",
       "      <td>261</td>\n",
       "      <td>-0</td>\n",
       "      <td>63</td>\n",
       "      <td>-204</td>\n",
       "      <td>839</td>\n",
       "      <td>-370</td>\n",
       "      <td>-</td>\n",
       "      <td>-</td>\n",
       "      <td>1</td>\n",
       "      <td>-0</td>\n",
       "      <td>1355</td>\n",
       "      <td>-0</td>\n",
       "      <td>66</td>\n",
       "      <td>-0</td>\n",
       "      <td>1142</td>\n",
       "      <td>-0</td>\n",
       "    </tr>\n",
       "  </tbody>\n",
       "</table>\n",
       "</div>"
      ],
      "text/plain": [
       "                 Date Physikalischer Nettoexport[MWh]  \\\n",
       "0 2015-06-01 00:00:00                               -   \n",
       "1 2015-06-01 01:00:00                               -   \n",
       "\n",
       "  Niederlande (Export)[MWh] Niederlande (Import)[MWh] Schweiz (Export)[MWh]  \\\n",
       "0                      3932                        -0                   145   \n",
       "1                      4014                        -0                   261   \n",
       "\n",
       "  Schweiz (Import)[MWh] Dänemark (Export)[MWh] Dänemark (Import)[MWh]  \\\n",
       "0                    -0                    113                   -385   \n",
       "1                    -0                     63                   -204   \n",
       "\n",
       "  Tschechien (Export)[MWh] Tschechien (Import)[MWh] Luxemburg (Export)[MWh]  \\\n",
       "0                      912                     -358                       -   \n",
       "1                      839                     -370                       -   \n",
       "\n",
       "  Luxemburg (Import)[MWh] Schweden (Export)[MWh] Schweden (Import)[MWh]  \\\n",
       "0                       -                      1                     -0   \n",
       "1                       -                      1                     -0   \n",
       "\n",
       "   Österreich (Export)[MWh] Österreich (Import)[MWh]  \\\n",
       "0                      1394                       -0   \n",
       "1                      1355                       -0   \n",
       "\n",
       "   Frankreich (Export)[MWh] Frankreich (Import)[MWh]  Polen (Export)[MWh]  \\\n",
       "0                       246                       -0                 1279   \n",
       "1                        66                       -0                 1142   \n",
       "\n",
       "  Polen (Import)[MWh]  \n",
       "0                  -0  \n",
       "1                  -0  "
      ]
     },
     "execution_count": 87,
     "metadata": {},
     "output_type": "execute_result"
    }
   ],
   "source": [
    "df.head(2)"
   ]
  },
  {
   "cell_type": "markdown",
   "metadata": {},
   "source": [
    "---"
   ]
  },
  {
   "cell_type": "markdown",
   "metadata": {},
   "source": [
    "## Model Training"
   ]
  },
  {
   "cell_type": "markdown",
   "metadata": {},
   "source": [
    "---"
   ]
  }
 ],
 "metadata": {
  "kernelspec": {
   "display_name": "Python 3",
   "language": "python",
   "name": "python3"
  },
  "language_info": {
   "codemirror_mode": {
    "name": "ipython",
    "version": 3
   },
   "file_extension": ".py",
   "mimetype": "text/x-python",
   "name": "python",
   "nbconvert_exporter": "python",
   "pygments_lexer": "ipython3",
   "version": "3.6.8"
  }
 },
 "nbformat": 4,
 "nbformat_minor": 2
}
